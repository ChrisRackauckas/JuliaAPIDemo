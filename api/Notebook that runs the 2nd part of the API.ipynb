{
 "cells": [
  {
   "cell_type": "markdown",
   "metadata": {},
   "source": [
    "Make sure you run `julia srvr.jl &` before running the cell below."
   ]
  },
  {
   "cell_type": "code",
   "execution_count": null,
   "metadata": {
    "collapsed": false
   },
   "outputs": [
    {
     "name": "stderr",
     "output_type": "stream",
     "text": [
      "WARNING: Method definition warn(Any...) in module Base at util.jl:350 overwritten in module Logging at C:\\Users\\amellnik\\.julia\\v0.5\\Logging\\src\\Logging.jl:115.\n",
      "WARNING: Method definition info(Any...) in module Base at util.jl:320 overwritten in module Logging at C:\\Users\\amellnik\\.julia\\v0.5\\Logging\\src\\Logging.jl:115.\n",
      "22-Dec 11:52:25:INFO:root:listening on port 0.0.0.0:7777...\n",
      "22-Dec 11:52:40:INFO:root:processing request Request(:/, 13 headers, 0 bytes in body)\n"
     ]
    }
   ],
   "source": [
    "using JuliaWebAPI   #Load package\n",
    "using Logging\n",
    "Logging.configure(level=INFO);\n",
    "\n",
    "#Create the ZMQ client that talks to the ZMQ listener above\n",
    "const apiclnt = APIInvoker(\"tcp://127.0.0.1:9999\");\n",
    "\n",
    "#Starts the HTTP server in current process\n",
    "run_http(apiclnt, 7777)"
   ]
  },
  {
   "cell_type": "code",
   "execution_count": null,
   "metadata": {
    "collapsed": true
   },
   "outputs": [],
   "source": []
  }
 ],
 "metadata": {
  "kernelspec": {
   "display_name": "Julia 0.5.0",
   "language": "julia",
   "name": "julia-0.5"
  },
  "language_info": {
   "file_extension": ".jl",
   "mimetype": "application/julia",
   "name": "julia",
   "version": "0.5.0"
  }
 },
 "nbformat": 4,
 "nbformat_minor": 1
}
